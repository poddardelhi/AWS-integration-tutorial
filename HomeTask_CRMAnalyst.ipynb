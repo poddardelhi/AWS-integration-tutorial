{
  "nbformat": 4,
  "nbformat_minor": 0,
  "metadata": {
    "colab": {
      "name": "HomeTask-CRMAnalyst.ipynb",
      "provenance": [],
      "include_colab_link": true
    },
    "kernelspec": {
      "display_name": "Python 3",
      "language": "python",
      "name": "python3"
    },
    "language_info": {
      "codemirror_mode": {
        "name": "ipython",
        "version": 3
      },
      "file_extension": ".py",
      "mimetype": "text/x-python",
      "name": "python",
      "nbconvert_exporter": "python",
      "pygments_lexer": "ipython3",
      "version": "3.7.6"
    }
  },
  "cells": [
    {
      "cell_type": "markdown",
      "metadata": {
        "id": "view-in-github",
        "colab_type": "text"
      },
      "source": [
        "<a href=\"https://colab.research.google.com/github/poddardelhi/AWS-integration-tutorial/blob/master/HomeTask_CRMAnalyst.ipynb\" target=\"_parent\"><img src=\"https://colab.research.google.com/assets/colab-badge.svg\" alt=\"Open In Colab\"/></a>"
      ]
    },
    {
      "cell_type": "code",
      "metadata": {
        "id": "uWxcWeg5xQ74"
      },
      "source": [
        "# Jovian Commit Essentials\n",
        "# Please retain and execute this cell without modifying the contents for `jovian.commit` to work\n",
        "!pip install jovian --upgrade -q\n",
        "import jovian\n",
        "jovian.set_project('crm-analyst-home-task')\n",
        "jovian.set_colab_id('19qlyMoLkYQQTuyeGOT8H77D-46PRtm_K')"
      ],
      "execution_count": null,
      "outputs": []
    },
    {
      "cell_type": "markdown",
      "metadata": {
        "id": "zVs9-OWGdOXx"
      },
      "source": [
        "# Commit the work"
      ]
    },
    {
      "cell_type": "code",
      "metadata": {
        "colab": {
          "base_uri": "https://localhost:8080/",
          "height": 103
        },
        "id": "b0aREkIjMR3K",
        "outputId": "0cfb115d-a4c1-49ec-ddbc-223ae51f403f"
      },
      "source": [
        "#Save the work to JOVIAN.ML\n",
        "project_name = \"crm-analyst-home-task\"\n",
        " # change this\n",
        "jovian.commit(project=project_name)"
      ],
      "execution_count": null,
      "outputs": [
        {
          "output_type": "stream",
          "text": [
            "[jovian] Detected Colab notebook...\u001b[0m\n",
            "[jovian] Uploading colab notebook to Jovian...\u001b[0m\n",
            "[jovian] Capturing environment..\u001b[0m\n",
            "[jovian] Committed successfully! https://jovian.ai/poddardelhi/crm-analyst-home-task\u001b[0m\n"
          ],
          "name": "stdout"
        },
        {
          "output_type": "execute_result",
          "data": {
            "application/vnd.google.colaboratory.intrinsic+json": {
              "type": "string"
            },
            "text/plain": [
              "'https://jovian.ai/poddardelhi/crm-analyst-home-task'"
            ]
          },
          "metadata": {
            "tags": []
          },
          "execution_count": 122
        }
      ]
    },
    {
      "cell_type": "code",
      "metadata": {
        "colab": {
          "base_uri": "https://localhost:8080/"
        },
        "id": "W88VBk3kQMFU",
        "outputId": "755f0896-0db4-4ca0-aa39-822a8b8099b1"
      },
      "source": [
        "from google.colab import drive\n",
        "drive.mount('/content/drive')"
      ],
      "execution_count": null,
      "outputs": [
        {
          "output_type": "stream",
          "text": [
            "Mounted at /content/drive\n"
          ],
          "name": "stdout"
        }
      ]
    },
    {
      "cell_type": "code",
      "metadata": {
        "id": "dXbKgO3-R87a"
      },
      "source": [
        "# Importing the necessary libraries\n",
        "import numpy as np\n",
        "import pandas as pd\n",
        "import pandas_profiling\n",
        "import seaborn as sns\n",
        "import matplotlib.pyplot as plt\n",
        "\n",
        "%matplotlib inline"
      ],
      "execution_count": null,
      "outputs": []
    },
    {
      "cell_type": "markdown",
      "metadata": {
        "id": "eeCEIWVBQs7j"
      },
      "source": [
        "# Task 1\n",
        "\n",
        "\n",
        "\n",
        "1. Calculate the following rates, based on data from the page \"1. Data\" (in the data sheet there are columns currently empty - fill them):\n",
        "  \n",
        "  1.1. Funnel Start Rate (Rate at which Sessions become Started Applications).\n",
        "  \n",
        "  1.2. Approval Rate (Rate at which Finished Applications become Approved Applications)\n",
        "  \n",
        "  1.3. Write Rate (Rate at which Approved Applications become Paid Applications)\n",
        "\n",
        "\n",
        "\n",
        "\n"
      ]
    },
    {
      "cell_type": "code",
      "metadata": {
        "id": "x4UNGZ6xQM0Q"
      },
      "source": [
        "df_application= pd.read_csv(\"/content/drive/MyDrive/Jovian/Ferratum_CRM/data_q1.csv\")"
      ],
      "execution_count": null,
      "outputs": []
    },
    {
      "cell_type": "code",
      "metadata": {
        "colab": {
          "base_uri": "https://localhost:8080/",
          "height": 204
        },
        "id": "eVk8gJLyTRVJ",
        "outputId": "e463e40d-c734-4f59-f0f7-2b667d450941"
      },
      "source": [
        "df_application.head()"
      ],
      "execution_count": null,
      "outputs": [
        {
          "output_type": "execute_result",
          "data": {
            "text/html": [
              "<div>\n",
              "<style scoped>\n",
              "    .dataframe tbody tr th:only-of-type {\n",
              "        vertical-align: middle;\n",
              "    }\n",
              "\n",
              "    .dataframe tbody tr th {\n",
              "        vertical-align: top;\n",
              "    }\n",
              "\n",
              "    .dataframe thead th {\n",
              "        text-align: right;\n",
              "    }\n",
              "</style>\n",
              "<table border=\"1\" class=\"dataframe\">\n",
              "  <thead>\n",
              "    <tr style=\"text-align: right;\">\n",
              "      <th></th>\n",
              "      <th>Country</th>\n",
              "      <th>Date</th>\n",
              "      <th>Date_HR</th>\n",
              "      <th>Sessions</th>\n",
              "      <th>StartedApplications</th>\n",
              "      <th>FinishedApps</th>\n",
              "      <th>Approved</th>\n",
              "      <th>PaidOut</th>\n",
              "    </tr>\n",
              "  </thead>\n",
              "  <tbody>\n",
              "    <tr>\n",
              "      <th>0</th>\n",
              "      <td>Australia</td>\n",
              "      <td>43466</td>\n",
              "      <td>01/01/2019</td>\n",
              "      <td>91127.0</td>\n",
              "      <td>28144.0</td>\n",
              "      <td>10587</td>\n",
              "      <td>523.0</td>\n",
              "      <td>510.0</td>\n",
              "    </tr>\n",
              "    <tr>\n",
              "      <th>1</th>\n",
              "      <td>Australia</td>\n",
              "      <td>43497</td>\n",
              "      <td>01/02/2019</td>\n",
              "      <td>77586.0</td>\n",
              "      <td>24290.0</td>\n",
              "      <td>9054</td>\n",
              "      <td>546.0</td>\n",
              "      <td>537.0</td>\n",
              "    </tr>\n",
              "    <tr>\n",
              "      <th>2</th>\n",
              "      <td>Australia</td>\n",
              "      <td>43525</td>\n",
              "      <td>01/03/2019</td>\n",
              "      <td>65420.0</td>\n",
              "      <td>18904.0</td>\n",
              "      <td>7614</td>\n",
              "      <td>446.0</td>\n",
              "      <td>439.0</td>\n",
              "    </tr>\n",
              "    <tr>\n",
              "      <th>3</th>\n",
              "      <td>Brazil</td>\n",
              "      <td>43466</td>\n",
              "      <td>01/01/2019</td>\n",
              "      <td>232295.0</td>\n",
              "      <td>143099.0</td>\n",
              "      <td>14264</td>\n",
              "      <td>1229.0</td>\n",
              "      <td>678.0</td>\n",
              "    </tr>\n",
              "    <tr>\n",
              "      <th>4</th>\n",
              "      <td>Brazil</td>\n",
              "      <td>43497</td>\n",
              "      <td>01/02/2019</td>\n",
              "      <td>168190.0</td>\n",
              "      <td>99253.0</td>\n",
              "      <td>14090</td>\n",
              "      <td>755.0</td>\n",
              "      <td>321.0</td>\n",
              "    </tr>\n",
              "  </tbody>\n",
              "</table>\n",
              "</div>"
            ],
            "text/plain": [
              "     Country   Date     Date_HR  ...  FinishedApps  Approved  PaidOut\n",
              "0  Australia  43466  01/01/2019  ...         10587     523.0    510.0\n",
              "1  Australia  43497  01/02/2019  ...          9054     546.0    537.0\n",
              "2  Australia  43525  01/03/2019  ...          7614     446.0    439.0\n",
              "3     Brazil  43466  01/01/2019  ...         14264    1229.0    678.0\n",
              "4     Brazil  43497  01/02/2019  ...         14090     755.0    321.0\n",
              "\n",
              "[5 rows x 8 columns]"
            ]
          },
          "metadata": {
            "tags": []
          },
          "execution_count": 33
        }
      ]
    },
    {
      "cell_type": "code",
      "metadata": {
        "colab": {
          "base_uri": "https://localhost:8080/"
        },
        "id": "mVx6wWI9c2bT",
        "outputId": "2f2d6db7-bc43-40f3-b977-e88c8018e7ee"
      },
      "source": [
        "df_application.shape"
      ],
      "execution_count": null,
      "outputs": [
        {
          "output_type": "execute_result",
          "data": {
            "text/plain": [
              "(66, 8)"
            ]
          },
          "metadata": {
            "tags": []
          },
          "execution_count": 34
        }
      ]
    },
    {
      "cell_type": "code",
      "metadata": {
        "colab": {
          "base_uri": "https://localhost:8080/"
        },
        "id": "9FLkYii6dtpX",
        "outputId": "6b2220b1-ba8b-4404-e62e-c62182d0d82b"
      },
      "source": [
        "#checking the Null or Nan values\n",
        "df_application.isna().sum()"
      ],
      "execution_count": null,
      "outputs": [
        {
          "output_type": "execute_result",
          "data": {
            "text/plain": [
              "Country                0\n",
              "Date                   0\n",
              "Date_HR                0\n",
              "Sessions               3\n",
              "StartedApplications    3\n",
              "FinishedApps           0\n",
              "Approved               2\n",
              "PaidOut                2\n",
              "dtype: int64"
            ]
          },
          "metadata": {
            "tags": []
          },
          "execution_count": 35
        }
      ]
    },
    {
      "cell_type": "code",
      "metadata": {
        "colab": {
          "base_uri": "https://localhost:8080/",
          "height": 204
        },
        "id": "yG3iXRKGe3Sv",
        "outputId": "bbadaa25-4ecc-4986-c778-6b8db4265570"
      },
      "source": [
        "# Finding the individual rows that are Null/NaN type\n",
        "none_values=df_application[df_application.isna().any(axis=1)][::]\n",
        "none_values.head()\n"
      ],
      "execution_count": null,
      "outputs": [
        {
          "output_type": "execute_result",
          "data": {
            "text/html": [
              "<div>\n",
              "<style scoped>\n",
              "    .dataframe tbody tr th:only-of-type {\n",
              "        vertical-align: middle;\n",
              "    }\n",
              "\n",
              "    .dataframe tbody tr th {\n",
              "        vertical-align: top;\n",
              "    }\n",
              "\n",
              "    .dataframe thead th {\n",
              "        text-align: right;\n",
              "    }\n",
              "</style>\n",
              "<table border=\"1\" class=\"dataframe\">\n",
              "  <thead>\n",
              "    <tr style=\"text-align: right;\">\n",
              "      <th></th>\n",
              "      <th>Country</th>\n",
              "      <th>Date</th>\n",
              "      <th>Date_HR</th>\n",
              "      <th>Sessions</th>\n",
              "      <th>StartedApplications</th>\n",
              "      <th>FinishedApps</th>\n",
              "      <th>Approved</th>\n",
              "      <th>PaidOut</th>\n",
              "    </tr>\n",
              "  </thead>\n",
              "  <tbody>\n",
              "    <tr>\n",
              "      <th>39</th>\n",
              "      <td>Nigeria</td>\n",
              "      <td>43466</td>\n",
              "      <td>01/01/2019</td>\n",
              "      <td>NaN</td>\n",
              "      <td>NaN</td>\n",
              "      <td>92940</td>\n",
              "      <td>6.0</td>\n",
              "      <td>4.0</td>\n",
              "    </tr>\n",
              "    <tr>\n",
              "      <th>40</th>\n",
              "      <td>Nigeria</td>\n",
              "      <td>43497</td>\n",
              "      <td>01/02/2019</td>\n",
              "      <td>NaN</td>\n",
              "      <td>NaN</td>\n",
              "      <td>70493</td>\n",
              "      <td>4.0</td>\n",
              "      <td>1.0</td>\n",
              "    </tr>\n",
              "    <tr>\n",
              "      <th>41</th>\n",
              "      <td>Nigeria</td>\n",
              "      <td>43525</td>\n",
              "      <td>01/03/2019</td>\n",
              "      <td>NaN</td>\n",
              "      <td>NaN</td>\n",
              "      <td>60915</td>\n",
              "      <td>5.0</td>\n",
              "      <td>2.0</td>\n",
              "    </tr>\n",
              "    <tr>\n",
              "      <th>52</th>\n",
              "      <td>Russia</td>\n",
              "      <td>43497</td>\n",
              "      <td>01/02/2019</td>\n",
              "      <td>38605.0</td>\n",
              "      <td>13951.0</td>\n",
              "      <td>6228</td>\n",
              "      <td>NaN</td>\n",
              "      <td>NaN</td>\n",
              "    </tr>\n",
              "    <tr>\n",
              "      <th>53</th>\n",
              "      <td>Russia</td>\n",
              "      <td>43525</td>\n",
              "      <td>01/03/2019</td>\n",
              "      <td>16772.0</td>\n",
              "      <td>389.0</td>\n",
              "      <td>0</td>\n",
              "      <td>NaN</td>\n",
              "      <td>NaN</td>\n",
              "    </tr>\n",
              "  </tbody>\n",
              "</table>\n",
              "</div>"
            ],
            "text/plain": [
              "    Country   Date     Date_HR  ...  FinishedApps  Approved  PaidOut\n",
              "39  Nigeria  43466  01/01/2019  ...         92940       6.0      4.0\n",
              "40  Nigeria  43497  01/02/2019  ...         70493       4.0      1.0\n",
              "41  Nigeria  43525  01/03/2019  ...         60915       5.0      2.0\n",
              "52   Russia  43497  01/02/2019  ...          6228       NaN      NaN\n",
              "53   Russia  43525  01/03/2019  ...             0       NaN      NaN\n",
              "\n",
              "[5 rows x 8 columns]"
            ]
          },
          "metadata": {
            "tags": []
          },
          "execution_count": 36
        }
      ]
    },
    {
      "cell_type": "markdown",
      "metadata": {
        "id": "ssJY994pk3qE"
      },
      "source": [
        "## Empty columns?\n",
        "We have many empty columns for countries Nigeria and Russia. I'm taking a assumption here that every time a user logs in, it is recorded as 1 session. Therefore, I'm disregarding Nigeria during analysis and value 0 is replaced for all empty cells.\n",
        "\n",
        "In case of Russia, all NaN cells are replaced with value 0\n"
      ]
    },
    {
      "cell_type": "code",
      "metadata": {
        "colab": {
          "base_uri": "https://localhost:8080/"
        },
        "id": "eYbIvVXmAuDR",
        "outputId": "042f8039-92d9-4ee4-b784-3be985ca2703"
      },
      "source": [
        "df_application.fillna(value=0, axis=1, inplace=True)\n",
        "df_application.isna().sum()"
      ],
      "execution_count": null,
      "outputs": [
        {
          "output_type": "execute_result",
          "data": {
            "text/plain": [
              "Country                0\n",
              "Date                   0\n",
              "Date_HR                0\n",
              "Sessions               0\n",
              "StartedApplications    0\n",
              "FinishedApps           0\n",
              "Approved               0\n",
              "PaidOut                0\n",
              "dtype: int64"
            ]
          },
          "metadata": {
            "tags": []
          },
          "execution_count": 37
        }
      ]
    },
    {
      "cell_type": "code",
      "metadata": {
        "colab": {
          "base_uri": "https://localhost:8080/",
          "height": 204
        },
        "id": "5CspwAqgCpji",
        "outputId": "3a628670-bf0c-4a11-fbea-a69c4639ec96"
      },
      "source": [
        "# Dropping the excel serial date column \n",
        "df_application.drop(labels='Date', axis=1,inplace=True)\n",
        "df_application.head()"
      ],
      "execution_count": null,
      "outputs": [
        {
          "output_type": "execute_result",
          "data": {
            "text/html": [
              "<div>\n",
              "<style scoped>\n",
              "    .dataframe tbody tr th:only-of-type {\n",
              "        vertical-align: middle;\n",
              "    }\n",
              "\n",
              "    .dataframe tbody tr th {\n",
              "        vertical-align: top;\n",
              "    }\n",
              "\n",
              "    .dataframe thead th {\n",
              "        text-align: right;\n",
              "    }\n",
              "</style>\n",
              "<table border=\"1\" class=\"dataframe\">\n",
              "  <thead>\n",
              "    <tr style=\"text-align: right;\">\n",
              "      <th></th>\n",
              "      <th>Country</th>\n",
              "      <th>Date_HR</th>\n",
              "      <th>Sessions</th>\n",
              "      <th>StartedApplications</th>\n",
              "      <th>FinishedApps</th>\n",
              "      <th>Approved</th>\n",
              "      <th>PaidOut</th>\n",
              "    </tr>\n",
              "  </thead>\n",
              "  <tbody>\n",
              "    <tr>\n",
              "      <th>0</th>\n",
              "      <td>Australia</td>\n",
              "      <td>01/01/2019</td>\n",
              "      <td>91127.0</td>\n",
              "      <td>28144.0</td>\n",
              "      <td>10587</td>\n",
              "      <td>523.0</td>\n",
              "      <td>510.0</td>\n",
              "    </tr>\n",
              "    <tr>\n",
              "      <th>1</th>\n",
              "      <td>Australia</td>\n",
              "      <td>01/02/2019</td>\n",
              "      <td>77586.0</td>\n",
              "      <td>24290.0</td>\n",
              "      <td>9054</td>\n",
              "      <td>546.0</td>\n",
              "      <td>537.0</td>\n",
              "    </tr>\n",
              "    <tr>\n",
              "      <th>2</th>\n",
              "      <td>Australia</td>\n",
              "      <td>01/03/2019</td>\n",
              "      <td>65420.0</td>\n",
              "      <td>18904.0</td>\n",
              "      <td>7614</td>\n",
              "      <td>446.0</td>\n",
              "      <td>439.0</td>\n",
              "    </tr>\n",
              "    <tr>\n",
              "      <th>3</th>\n",
              "      <td>Brazil</td>\n",
              "      <td>01/01/2019</td>\n",
              "      <td>232295.0</td>\n",
              "      <td>143099.0</td>\n",
              "      <td>14264</td>\n",
              "      <td>1229.0</td>\n",
              "      <td>678.0</td>\n",
              "    </tr>\n",
              "    <tr>\n",
              "      <th>4</th>\n",
              "      <td>Brazil</td>\n",
              "      <td>01/02/2019</td>\n",
              "      <td>168190.0</td>\n",
              "      <td>99253.0</td>\n",
              "      <td>14090</td>\n",
              "      <td>755.0</td>\n",
              "      <td>321.0</td>\n",
              "    </tr>\n",
              "  </tbody>\n",
              "</table>\n",
              "</div>"
            ],
            "text/plain": [
              "     Country     Date_HR  Sessions  ...  FinishedApps  Approved  PaidOut\n",
              "0  Australia  01/01/2019   91127.0  ...         10587     523.0    510.0\n",
              "1  Australia  01/02/2019   77586.0  ...          9054     546.0    537.0\n",
              "2  Australia  01/03/2019   65420.0  ...          7614     446.0    439.0\n",
              "3     Brazil  01/01/2019  232295.0  ...         14264    1229.0    678.0\n",
              "4     Brazil  01/02/2019  168190.0  ...         14090     755.0    321.0\n",
              "\n",
              "[5 rows x 7 columns]"
            ]
          },
          "metadata": {
            "tags": []
          },
          "execution_count": 38
        }
      ]
    },
    {
      "cell_type": "code",
      "metadata": {
        "colab": {
          "base_uri": "https://localhost:8080/",
          "height": 204
        },
        "id": "wP27KEaaCrpm",
        "outputId": "757b4599-ebae-42d5-b387-f65c9ca3cfb4"
      },
      "source": [
        "df_application.rename(columns={'Date_HR':'Date'},inplace=True)\n",
        "df_application['Date'] = pd.to_datetime(df_application.Date, format='%d/%m/%Y')\n",
        "df_application['Date']=df_application['Date'].dt.strftime('%d/%m/%Y')\n",
        "df_application['Date'] = pd.to_datetime(df_application['Date'])\n",
        "df_application['Month']= pd.DatetimeIndex(df_application['Date']).month\n",
        "df_application['Month']= df_application['Month'].replace({1:\"January\", 2:\"February\",3:\"March\"})\n",
        "df_application.head()"
      ],
      "execution_count": null,
      "outputs": [
        {
          "output_type": "execute_result",
          "data": {
            "text/html": [
              "<div>\n",
              "<style scoped>\n",
              "    .dataframe tbody tr th:only-of-type {\n",
              "        vertical-align: middle;\n",
              "    }\n",
              "\n",
              "    .dataframe tbody tr th {\n",
              "        vertical-align: top;\n",
              "    }\n",
              "\n",
              "    .dataframe thead th {\n",
              "        text-align: right;\n",
              "    }\n",
              "</style>\n",
              "<table border=\"1\" class=\"dataframe\">\n",
              "  <thead>\n",
              "    <tr style=\"text-align: right;\">\n",
              "      <th></th>\n",
              "      <th>Country</th>\n",
              "      <th>Date</th>\n",
              "      <th>Sessions</th>\n",
              "      <th>StartedApplications</th>\n",
              "      <th>FinishedApps</th>\n",
              "      <th>Approved</th>\n",
              "      <th>PaidOut</th>\n",
              "      <th>Month</th>\n",
              "    </tr>\n",
              "  </thead>\n",
              "  <tbody>\n",
              "    <tr>\n",
              "      <th>0</th>\n",
              "      <td>Australia</td>\n",
              "      <td>2019-01-01</td>\n",
              "      <td>91127.0</td>\n",
              "      <td>28144.0</td>\n",
              "      <td>10587</td>\n",
              "      <td>523.0</td>\n",
              "      <td>510.0</td>\n",
              "      <td>January</td>\n",
              "    </tr>\n",
              "    <tr>\n",
              "      <th>1</th>\n",
              "      <td>Australia</td>\n",
              "      <td>2019-02-01</td>\n",
              "      <td>77586.0</td>\n",
              "      <td>24290.0</td>\n",
              "      <td>9054</td>\n",
              "      <td>546.0</td>\n",
              "      <td>537.0</td>\n",
              "      <td>February</td>\n",
              "    </tr>\n",
              "    <tr>\n",
              "      <th>2</th>\n",
              "      <td>Australia</td>\n",
              "      <td>2019-03-01</td>\n",
              "      <td>65420.0</td>\n",
              "      <td>18904.0</td>\n",
              "      <td>7614</td>\n",
              "      <td>446.0</td>\n",
              "      <td>439.0</td>\n",
              "      <td>March</td>\n",
              "    </tr>\n",
              "    <tr>\n",
              "      <th>3</th>\n",
              "      <td>Brazil</td>\n",
              "      <td>2019-01-01</td>\n",
              "      <td>232295.0</td>\n",
              "      <td>143099.0</td>\n",
              "      <td>14264</td>\n",
              "      <td>1229.0</td>\n",
              "      <td>678.0</td>\n",
              "      <td>January</td>\n",
              "    </tr>\n",
              "    <tr>\n",
              "      <th>4</th>\n",
              "      <td>Brazil</td>\n",
              "      <td>2019-02-01</td>\n",
              "      <td>168190.0</td>\n",
              "      <td>99253.0</td>\n",
              "      <td>14090</td>\n",
              "      <td>755.0</td>\n",
              "      <td>321.0</td>\n",
              "      <td>February</td>\n",
              "    </tr>\n",
              "  </tbody>\n",
              "</table>\n",
              "</div>"
            ],
            "text/plain": [
              "     Country       Date  Sessions  ...  Approved  PaidOut     Month\n",
              "0  Australia 2019-01-01   91127.0  ...     523.0    510.0   January\n",
              "1  Australia 2019-02-01   77586.0  ...     546.0    537.0  February\n",
              "2  Australia 2019-03-01   65420.0  ...     446.0    439.0     March\n",
              "3     Brazil 2019-01-01  232295.0  ...    1229.0    678.0   January\n",
              "4     Brazil 2019-02-01  168190.0  ...     755.0    321.0  February\n",
              "\n",
              "[5 rows x 8 columns]"
            ]
          },
          "metadata": {
            "tags": []
          },
          "execution_count": 46
        }
      ]
    },
    {
      "cell_type": "markdown",
      "metadata": {
        "id": "SZZQOAsBfKGp"
      },
      "source": [
        "# Calculate the following rates, based on data from the page "
      ]
    },
    {
      "cell_type": "code",
      "metadata": {
        "colab": {
          "base_uri": "https://localhost:8080/",
          "height": 235
        },
        "id": "zSYQh7hIC1UA",
        "outputId": "6eca3788-678b-4f25-eb7c-8a143790f8fd"
      },
      "source": [
        "#Funnel Start Rate\n",
        "df_application['FunnelStartRate']= (df_application['StartedApplications']/ df_application['Sessions']) * 100\n",
        "#Conversion rate\n",
        "df_application['ConversionRate']= (df_application['FinishedApps']/ df_application['StartedApplications']) * 100\n",
        "#Approval rate\n",
        "df_application['ApprovalRate']= (df_application['Approved']/df_application['FinishedApps']) *100\n",
        "\n",
        "# Write Rate\n",
        "df_application['WriteRate']= (df_application['PaidOut']/ df_application['Approved']) *100\n",
        "#Displaying the above calculated values\n",
        "df_application.loc[:5,['Country','Date','FunnelStartRate','ConversionRate','ApprovalRate', 'WriteRate']]\n"
      ],
      "execution_count": null,
      "outputs": [
        {
          "output_type": "execute_result",
          "data": {
            "text/html": [
              "<div>\n",
              "<style scoped>\n",
              "    .dataframe tbody tr th:only-of-type {\n",
              "        vertical-align: middle;\n",
              "    }\n",
              "\n",
              "    .dataframe tbody tr th {\n",
              "        vertical-align: top;\n",
              "    }\n",
              "\n",
              "    .dataframe thead th {\n",
              "        text-align: right;\n",
              "    }\n",
              "</style>\n",
              "<table border=\"1\" class=\"dataframe\">\n",
              "  <thead>\n",
              "    <tr style=\"text-align: right;\">\n",
              "      <th></th>\n",
              "      <th>Country</th>\n",
              "      <th>Date</th>\n",
              "      <th>FunnelStartRate</th>\n",
              "      <th>ConversionRate</th>\n",
              "      <th>ApprovalRate</th>\n",
              "      <th>WriteRate</th>\n",
              "    </tr>\n",
              "  </thead>\n",
              "  <tbody>\n",
              "    <tr>\n",
              "      <th>0</th>\n",
              "      <td>Australia</td>\n",
              "      <td>2019-01-01</td>\n",
              "      <td>30.884370</td>\n",
              "      <td>37.617254</td>\n",
              "      <td>4.940021</td>\n",
              "      <td>97.514340</td>\n",
              "    </tr>\n",
              "    <tr>\n",
              "      <th>1</th>\n",
              "      <td>Australia</td>\n",
              "      <td>2019-02-01</td>\n",
              "      <td>31.307195</td>\n",
              "      <td>37.274599</td>\n",
              "      <td>6.030484</td>\n",
              "      <td>98.351648</td>\n",
              "    </tr>\n",
              "    <tr>\n",
              "      <th>2</th>\n",
              "      <td>Australia</td>\n",
              "      <td>2019-03-01</td>\n",
              "      <td>28.896362</td>\n",
              "      <td>40.277190</td>\n",
              "      <td>5.857631</td>\n",
              "      <td>98.430493</td>\n",
              "    </tr>\n",
              "    <tr>\n",
              "      <th>3</th>\n",
              "      <td>Brazil</td>\n",
              "      <td>2019-01-01</td>\n",
              "      <td>61.602273</td>\n",
              "      <td>9.967924</td>\n",
              "      <td>8.616096</td>\n",
              "      <td>55.166802</td>\n",
              "    </tr>\n",
              "    <tr>\n",
              "      <th>4</th>\n",
              "      <td>Brazil</td>\n",
              "      <td>2019-02-01</td>\n",
              "      <td>59.012426</td>\n",
              "      <td>14.196044</td>\n",
              "      <td>5.358410</td>\n",
              "      <td>42.516556</td>\n",
              "    </tr>\n",
              "    <tr>\n",
              "      <th>5</th>\n",
              "      <td>Brazil</td>\n",
              "      <td>2019-03-01</td>\n",
              "      <td>47.402617</td>\n",
              "      <td>24.424740</td>\n",
              "      <td>4.333376</td>\n",
              "      <td>59.292035</td>\n",
              "    </tr>\n",
              "  </tbody>\n",
              "</table>\n",
              "</div>"
            ],
            "text/plain": [
              "     Country       Date  ...  ApprovalRate  WriteRate\n",
              "0  Australia 2019-01-01  ...      4.940021  97.514340\n",
              "1  Australia 2019-02-01  ...      6.030484  98.351648\n",
              "2  Australia 2019-03-01  ...      5.857631  98.430493\n",
              "3     Brazil 2019-01-01  ...      8.616096  55.166802\n",
              "4     Brazil 2019-02-01  ...      5.358410  42.516556\n",
              "5     Brazil 2019-03-01  ...      4.333376  59.292035\n",
              "\n",
              "[6 rows x 6 columns]"
            ]
          },
          "metadata": {
            "tags": []
          },
          "execution_count": 53
        }
      ]
    },
    {
      "cell_type": "markdown",
      "metadata": {
        "id": "zyDr4DtodLGp"
      },
      "source": [
        "#Creating the pivot visualization of all the rates in Q1 months"
      ]
    },
    {
      "cell_type": "code",
      "metadata": {
        "id": "Q7oIM-EZdVuL"
      },
      "source": [
        "pivot_df_month_SR= df_application.pivot_table(index='Country', columns='Month', values='FunnelStartRate',dropna=True)\n",
        "pivot_df_month_CR=df_application.pivot_table(index='Country', columns='Month', values='ConversionRate',dropna=True)\n",
        "pivot_df_month_AR= df_application.pivot_table(index='Country', columns='Month', values='ApprovalRate', dropna=True)\n",
        "pivot_df_month_WR= df_application.pivot_table(index='Country', columns='Month', values='WriteRate', dropna=True)\n"
      ],
      "execution_count": null,
      "outputs": []
    },
    {
      "cell_type": "code",
      "metadata": {
        "colab": {
          "base_uri": "https://localhost:8080/",
          "height": 731
        },
        "id": "ns63xvh4i7bM",
        "outputId": "fa03aea9-62a1-4716-a593-820e2741b01c"
      },
      "source": [
        "pivot_df_month_SR"
      ],
      "execution_count": null,
      "outputs": [
        {
          "output_type": "execute_result",
          "data": {
            "text/html": [
              "<div>\n",
              "<style scoped>\n",
              "    .dataframe tbody tr th:only-of-type {\n",
              "        vertical-align: middle;\n",
              "    }\n",
              "\n",
              "    .dataframe tbody tr th {\n",
              "        vertical-align: top;\n",
              "    }\n",
              "\n",
              "    .dataframe thead th {\n",
              "        text-align: right;\n",
              "    }\n",
              "</style>\n",
              "<table border=\"1\" class=\"dataframe\">\n",
              "  <thead>\n",
              "    <tr style=\"text-align: right;\">\n",
              "      <th>Month</th>\n",
              "      <th>February</th>\n",
              "      <th>January</th>\n",
              "      <th>March</th>\n",
              "    </tr>\n",
              "    <tr>\n",
              "      <th>Country</th>\n",
              "      <th></th>\n",
              "      <th></th>\n",
              "      <th></th>\n",
              "    </tr>\n",
              "  </thead>\n",
              "  <tbody>\n",
              "    <tr>\n",
              "      <th>Australia</th>\n",
              "      <td>31.307195</td>\n",
              "      <td>30.884370</td>\n",
              "      <td>28.896362</td>\n",
              "    </tr>\n",
              "    <tr>\n",
              "      <th>Brazil</th>\n",
              "      <td>59.012426</td>\n",
              "      <td>61.602273</td>\n",
              "      <td>47.402617</td>\n",
              "    </tr>\n",
              "    <tr>\n",
              "      <th>Bulgaria</th>\n",
              "      <td>22.737165</td>\n",
              "      <td>22.973928</td>\n",
              "      <td>24.387118</td>\n",
              "    </tr>\n",
              "    <tr>\n",
              "      <th>Canada</th>\n",
              "      <td>26.395182</td>\n",
              "      <td>36.232423</td>\n",
              "      <td>36.622216</td>\n",
              "    </tr>\n",
              "    <tr>\n",
              "      <th>Croatia</th>\n",
              "      <td>18.990106</td>\n",
              "      <td>18.948019</td>\n",
              "      <td>21.451745</td>\n",
              "    </tr>\n",
              "    <tr>\n",
              "      <th>Czech Republic</th>\n",
              "      <td>8.205601</td>\n",
              "      <td>8.142557</td>\n",
              "      <td>7.512537</td>\n",
              "    </tr>\n",
              "    <tr>\n",
              "      <th>Denmark</th>\n",
              "      <td>8.815102</td>\n",
              "      <td>13.532161</td>\n",
              "      <td>25.210625</td>\n",
              "    </tr>\n",
              "    <tr>\n",
              "      <th>Estonia</th>\n",
              "      <td>10.324080</td>\n",
              "      <td>10.503194</td>\n",
              "      <td>9.842666</td>\n",
              "    </tr>\n",
              "    <tr>\n",
              "      <th>Finland</th>\n",
              "      <td>11.793417</td>\n",
              "      <td>11.304145</td>\n",
              "      <td>11.874489</td>\n",
              "    </tr>\n",
              "    <tr>\n",
              "      <th>Germany</th>\n",
              "      <td>39.898307</td>\n",
              "      <td>39.001340</td>\n",
              "      <td>38.681413</td>\n",
              "    </tr>\n",
              "    <tr>\n",
              "      <th>Latvia</th>\n",
              "      <td>9.656537</td>\n",
              "      <td>10.351186</td>\n",
              "      <td>9.145425</td>\n",
              "    </tr>\n",
              "    <tr>\n",
              "      <th>Mexico</th>\n",
              "      <td>44.516857</td>\n",
              "      <td>47.777829</td>\n",
              "      <td>45.869027</td>\n",
              "    </tr>\n",
              "    <tr>\n",
              "      <th>New Zealand</th>\n",
              "      <td>90.795898</td>\n",
              "      <td>86.538462</td>\n",
              "      <td>90.784201</td>\n",
              "    </tr>\n",
              "    <tr>\n",
              "      <th>Norway</th>\n",
              "      <td>5.180095</td>\n",
              "      <td>6.116311</td>\n",
              "      <td>13.957467</td>\n",
              "    </tr>\n",
              "    <tr>\n",
              "      <th>Poland</th>\n",
              "      <td>2.845911</td>\n",
              "      <td>2.952386</td>\n",
              "      <td>2.374283</td>\n",
              "    </tr>\n",
              "    <tr>\n",
              "      <th>Romania</th>\n",
              "      <td>17.818478</td>\n",
              "      <td>21.940183</td>\n",
              "      <td>19.827614</td>\n",
              "    </tr>\n",
              "    <tr>\n",
              "      <th>Russia</th>\n",
              "      <td>36.137806</td>\n",
              "      <td>37.585811</td>\n",
              "      <td>2.319342</td>\n",
              "    </tr>\n",
              "    <tr>\n",
              "      <th>Spain</th>\n",
              "      <td>10.140138</td>\n",
              "      <td>11.373016</td>\n",
              "      <td>9.177293</td>\n",
              "    </tr>\n",
              "    <tr>\n",
              "      <th>Sweden</th>\n",
              "      <td>24.621885</td>\n",
              "      <td>23.720558</td>\n",
              "      <td>24.705386</td>\n",
              "    </tr>\n",
              "    <tr>\n",
              "      <th>The Netherlands</th>\n",
              "      <td>17.187232</td>\n",
              "      <td>18.027640</td>\n",
              "      <td>18.083515</td>\n",
              "    </tr>\n",
              "    <tr>\n",
              "      <th>United Kingdom</th>\n",
              "      <td>3.891149</td>\n",
              "      <td>5.494868</td>\n",
              "      <td>2.889441</td>\n",
              "    </tr>\n",
              "  </tbody>\n",
              "</table>\n",
              "</div>"
            ],
            "text/plain": [
              "Month             February    January      March\n",
              "Country                                         \n",
              "Australia        31.307195  30.884370  28.896362\n",
              "Brazil           59.012426  61.602273  47.402617\n",
              "Bulgaria         22.737165  22.973928  24.387118\n",
              "Canada           26.395182  36.232423  36.622216\n",
              "Croatia          18.990106  18.948019  21.451745\n",
              "Czech Republic    8.205601   8.142557   7.512537\n",
              "Denmark           8.815102  13.532161  25.210625\n",
              "Estonia          10.324080  10.503194   9.842666\n",
              "Finland          11.793417  11.304145  11.874489\n",
              "Germany          39.898307  39.001340  38.681413\n",
              "Latvia            9.656537  10.351186   9.145425\n",
              "Mexico           44.516857  47.777829  45.869027\n",
              "New Zealand      90.795898  86.538462  90.784201\n",
              "Norway            5.180095   6.116311  13.957467\n",
              "Poland            2.845911   2.952386   2.374283\n",
              "Romania          17.818478  21.940183  19.827614\n",
              "Russia           36.137806  37.585811   2.319342\n",
              "Spain            10.140138  11.373016   9.177293\n",
              "Sweden           24.621885  23.720558  24.705386\n",
              "The Netherlands  17.187232  18.027640  18.083515\n",
              "United Kingdom    3.891149   5.494868   2.889441"
            ]
          },
          "metadata": {
            "tags": []
          },
          "execution_count": 72
        }
      ]
    },
    {
      "cell_type": "code",
      "metadata": {
        "colab": {
          "base_uri": "https://localhost:8080/",
          "height": 1000
        },
        "id": "sf2hzu-Hh1ZR",
        "outputId": "ff091e51-0348-4c31-c678-a17417e2c4e4"
      },
      "source": [
        "#pivot_df_month_SR.loc[:,['February', 'January','March']].plot.bar( stacked= True, color=colors,figsize(10,7))\n",
        "\n",
        "fig,([ax1,ax2],[ax3,ax4])= plt.subplots(2,2)\n",
        "fig.set_figheight(15)\n",
        "fig.set_figwidth(25)\n",
        "\n",
        "ax1.set_title('Funnel Start rate')\n",
        "pivot_df_month_SR.plot(kind='bar',stacked=True,ax=ax1);\n",
        "ax2.set_title('Funnel Conversion rate')\n",
        "pivot_df_month_CR.plot(kind='bar',stacked=True,ax=ax2);\n",
        "ax3.set_title('Funnel Write rate rate')\n",
        "\n",
        "pivot_df_month_WR.plot(kind='bar',stacked=True,ax=ax3);\n",
        "ax4.set_title('Funnel Write Approval rate')\n",
        "\n",
        "pivot_df_month_AR.plot(kind='bar',stacked=True,ax=ax4);\n",
        "\n",
        "plt.subplots_adjust(top=1.5)\n",
        "plt.show()\n"
      ],
      "execution_count": null,
      "outputs": [
        {
          "output_type": "stream",
          "text": [
            "/usr/local/lib/python3.7/dist-packages/matplotlib/transforms.py:416: RuntimeWarning: invalid value encountered in double_scalars\n",
            "  return (x0, y0, x1 - x0, y1 - y0)\n"
          ],
          "name": "stderr"
        },
        {
          "output_type": "display_data",
          "data": {
            "image/png": "[encoded data removed]",
            "text/plain": [
              "<Figure size 1800x1080 with 4 Axes>"
            ]
          },
          "metadata": {
            "tags": [],
            "needs_background": "light"
          }
        }
      ]
    },
    {
      "cell_type": "markdown",
      "metadata": {
        "id": "T395kx0Ne_hT"
      },
      "source": [
        "# Create a visualization to see Group (all countries aggregated) trend over Q1 for those rates, and \\# of Paid Out Loans."
      ]
    },
    {
      "cell_type": "code",
      "metadata": {
        "colab": {
          "base_uri": "https://localhost:8080/",
          "height": 204
        },
        "id": "m7NxYIxsfGpT",
        "outputId": "9ca35688-832c-4fb5-8792-510f4fbd5622"
      },
      "source": [
        "df_application_agg=df_application.copy()\n",
        "df_application_agg.drop(columns=['FunnelStartRate','ConversionRate','ApprovalRate','WriteRate','Month', 'Date', 'Write Rate'],  inplace=True)\n",
        "df_application_agg=df_application_agg.groupby(['Country']).sum().reset_index()\n",
        "\n",
        "df_application_agg['FunnelStartRate']= (df_application_agg['StartedApplications']/ df_application_agg['Sessions']) * 100\n",
        "#Conversion rate\n",
        "df_application_agg['ConversionRate']= (df_application_agg['FinishedApps']/ df_application_agg['StartedApplications']) * 100\n",
        "#Approval rate\n",
        "df_application_agg['ApprovalRate']= (df_application_agg['Approved']/df_application_agg['FinishedApps']) *100\n",
        "\n",
        "# Write Rate\n",
        "df_application_agg['WriteRate']= (df_application_agg['PaidOut']/ df_application_agg['Approved']) *100\n",
        "#Displaying the above calculated values\n",
        "df_application_agg.head()"
      ],
      "execution_count": null,
      "outputs": [
        {
          "output_type": "execute_result",
          "data": {
            "text/html": [
              "<div>\n",
              "<style scoped>\n",
              "    .dataframe tbody tr th:only-of-type {\n",
              "        vertical-align: middle;\n",
              "    }\n",
              "\n",
              "    .dataframe tbody tr th {\n",
              "        vertical-align: top;\n",
              "    }\n",
              "\n",
              "    .dataframe thead th {\n",
              "        text-align: right;\n",
              "    }\n",
              "</style>\n",
              "<table border=\"1\" class=\"dataframe\">\n",
              "  <thead>\n",
              "    <tr style=\"text-align: right;\">\n",
              "      <th></th>\n",
              "      <th>Country</th>\n",
              "      <th>Sessions</th>\n",
              "      <th>StartedApplications</th>\n",
              "      <th>FinishedApps</th>\n",
              "      <th>Approved</th>\n",
              "      <th>PaidOut</th>\n",
              "      <th>FunnelStartRate</th>\n",
              "      <th>ConversionRate</th>\n",
              "      <th>ApprovalRate</th>\n",
              "      <th>WriteRate</th>\n",
              "    </tr>\n",
              "  </thead>\n",
              "  <tbody>\n",
              "    <tr>\n",
              "      <th>0</th>\n",
              "      <td>Australia</td>\n",
              "      <td>234133.0</td>\n",
              "      <td>71338.0</td>\n",
              "      <td>27255</td>\n",
              "      <td>1515.0</td>\n",
              "      <td>1486.0</td>\n",
              "      <td>30.469007</td>\n",
              "      <td>38.205445</td>\n",
              "      <td>5.558613</td>\n",
              "      <td>98.085809</td>\n",
              "    </tr>\n",
              "    <tr>\n",
              "      <th>1</th>\n",
              "      <td>Brazil</td>\n",
              "      <td>468053.0</td>\n",
              "      <td>274381.0</td>\n",
              "      <td>36177</td>\n",
              "      <td>2323.0</td>\n",
              "      <td>1200.0</td>\n",
              "      <td>58.621780</td>\n",
              "      <td>13.184951</td>\n",
              "      <td>6.421207</td>\n",
              "      <td>51.657340</td>\n",
              "    </tr>\n",
              "    <tr>\n",
              "      <th>2</th>\n",
              "      <td>Bulgaria</td>\n",
              "      <td>238303.0</td>\n",
              "      <td>55402.0</td>\n",
              "      <td>13490</td>\n",
              "      <td>2500.0</td>\n",
              "      <td>1996.0</td>\n",
              "      <td>23.248553</td>\n",
              "      <td>24.349301</td>\n",
              "      <td>18.532246</td>\n",
              "      <td>79.840000</td>\n",
              "    </tr>\n",
              "    <tr>\n",
              "      <th>3</th>\n",
              "      <td>Canada</td>\n",
              "      <td>47676.0</td>\n",
              "      <td>15614.0</td>\n",
              "      <td>5932</td>\n",
              "      <td>240.0</td>\n",
              "      <td>239.0</td>\n",
              "      <td>32.750231</td>\n",
              "      <td>37.991546</td>\n",
              "      <td>4.045853</td>\n",
              "      <td>99.583333</td>\n",
              "    </tr>\n",
              "    <tr>\n",
              "      <th>4</th>\n",
              "      <td>Croatia</td>\n",
              "      <td>210653.0</td>\n",
              "      <td>41228.0</td>\n",
              "      <td>7068</td>\n",
              "      <td>1346.0</td>\n",
              "      <td>1352.0</td>\n",
              "      <td>19.571523</td>\n",
              "      <td>17.143689</td>\n",
              "      <td>19.043577</td>\n",
              "      <td>100.445765</td>\n",
              "    </tr>\n",
              "  </tbody>\n",
              "</table>\n",
              "</div>"
            ],
            "text/plain": [
              "     Country  Sessions  ...  ApprovalRate   WriteRate\n",
              "0  Australia  234133.0  ...      5.558613   98.085809\n",
              "1     Brazil  468053.0  ...      6.421207   51.657340\n",
              "2   Bulgaria  238303.0  ...     18.532246   79.840000\n",
              "3     Canada   47676.0  ...      4.045853   99.583333\n",
              "4    Croatia  210653.0  ...     19.043577  100.445765\n",
              "\n",
              "[5 rows x 10 columns]"
            ]
          },
          "metadata": {
            "tags": []
          },
          "execution_count": 135
        }
      ]
    },
    {
      "cell_type": "code",
      "metadata": {
        "id": "fmYnep4KAVlh"
      },
      "source": [
        "\n"
      ],
      "execution_count": null,
      "outputs": []
    },
    {
      "cell_type": "code",
      "metadata": {
        "id": "OUs5hiJt81Kd"
      },
      "source": [
        ""
      ],
      "execution_count": null,
      "outputs": []
    }
  ]
}