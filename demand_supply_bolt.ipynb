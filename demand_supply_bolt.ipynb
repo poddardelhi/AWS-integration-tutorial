{
  "nbformat": 4,
  "nbformat_minor": 0,
  "metadata": {
    "colab": {
      "name": "demand_supply_bolt.ipynb",
      "provenance": []
    },
    "kernelspec": {
      "display_name": "Python 3",
      "language": "python",
      "name": "python3"
    },
    "language_info": {
      "codemirror_mode": {
        "name": "ipython",
        "version": 3
      },
      "file_extension": ".py",
      "mimetype": "text/x-python",
      "name": "python",
      "nbconvert_exporter": "python",
      "pygments_lexer": "ipython3",
      "version": "3.7.6"
    }
  },
  "cells": [
    {
      "cell_type": "markdown",
      "metadata": {
        "id": "gyU-ROMlnXFS"
      },
      "source": [
        "# Bolt - Supply and Demand Home Assignement\n"
      ]
    },
    {
      "cell_type": "markdown",
      "metadata": {
        "id": "FjIA-fXrezmi"
      },
      "source": [
        "# Libraries\n"
      ]
    },
    {
      "cell_type": "code",
      "metadata": {
        "id": "hJXKoGH9e7Am"
      },
      "source": [
        "# Importing the necessary libraries\n",
        "import numpy as np\n",
        "import pandas as pd\n",
        "import pandas_profiling\n",
        "import seaborn as sns\n",
        "import matplotlib.pyplot as plt\n",
        "\n",
        "%matplotlib inline"
      ],
      "execution_count": null,
      "outputs": []
    },
    {
      "cell_type": "markdown",
      "metadata": {
        "id": "ZeT7RTAXoCsN"
      },
      "source": [
        "# Jovian Commit Pre-requisites\n",
        "\n"
      ]
    },
    {
      "cell_type": "code",
      "metadata": {
        "colab": {
          "base_uri": "https://localhost:8080/",
          "height": 106
        },
        "id": "EB1v87apYl9h",
        "outputId": "0d6fb477-a56b-49e3-a74d-51d5eb6a551a"
      },
      "source": [
        "# Jovian Commit Essentials\n",
        "# Please retain and execute this cell without modifying the contents for `jovian.commit` to work\n",
        "!pip install jovian --upgrade -q\n",
        "import jovian\n",
        "jovian.utils.colab.set_colab_file_id('1cgvsbD6kj8ennNijI4cjTBNbYdipKKvj')\n",
        "project_name = \"demand-supply-bolt\" \n",
        "jovian.commit(project=project_name)"
      ],
      "execution_count": 31,
      "outputs": [
        {
          "output_type": "stream",
          "text": [
            "[jovian] Detected Colab notebook...\u001b[0m\n",
            "[jovian] Uploading colab notebook to Jovian...\u001b[0m\n",
            "[jovian] Capturing environment..\u001b[0m\n",
            "[jovian] Committed successfully! https://jovian.ai/poddardelhi/demand-supply-bolt\u001b[0m\n"
          ],
          "name": "stdout"
        },
        {
          "output_type": "execute_result",
          "data": {
            "application/vnd.google.colaboratory.intrinsic+json": {
              "type": "string"
            },
            "text/plain": [
              "'https://jovian.ai/poddardelhi/demand-supply-bolt'"
            ]
          },
          "metadata": {
            "tags": []
          },
          "execution_count": 31
        }
      ]
    },
    {
      "cell_type": "markdown",
      "metadata": {
        "id": "J8vT_0ksZxPg"
      },
      "source": [
        "# Access to Gdrive"
      ]
    },
    {
      "cell_type": "code",
      "metadata": {
        "colab": {
          "base_uri": "https://localhost:8080/"
        },
        "id": "epqLRgyBn0XF",
        "outputId": "592ace65-6a7f-40ce-fe01-f6065a91a29e"
      },
      "source": [
        "from google.colab import drive\n",
        "drive.mount('/content/drive')"
      ],
      "execution_count": null,
      "outputs": [
        {
          "output_type": "stream",
          "text": [
            "Mounted at /content/drive\n"
          ],
          "name": "stdout"
        }
      ]
    },
    {
      "cell_type": "markdown",
      "metadata": {
        "id": "lcMqoR_fbe8Y"
      },
      "source": [
        "# Requirements from the task:\n",
        "\n",
        "1.   Show which 36 hours in a week are most undersupplied. Show/describe your decision based on sample data\n",
        "2.   24-hour curve of average supply and demand (to illustrate match/mismatch).\n",
        "3. Visualisation of hours where we lack supply during a weekly period. This one we can send to drivers to show when to online for extra hours.\n",
        "4. Estimate number of hours needed to ensure we have a high Coverage Ratio during most peak hours.\n",
        "5. Calculate levels of guaranteed hourly earnings we can offer to drivers during 36 weekly hours with highest demand without losing money + how much extra hours we want to get to capture missed demand.\n",
        "  \n",
        "*   Assume that Finished Rides have an average value of €10 (80% goes to driver,\n",
        "20% is our revenue).\n",
        "*    Assume the same level of demand with increased supply, base it on RPH over 3 hour periods, but with increased supply.\n",
        "* Assume that with extra hours we will capture “missed coverage” or people\n",
        "attributed to “People saw 0 cars” in demand data.\n"
      ]
    },
    {
      "cell_type": "markdown",
      "metadata": {
        "id": "wKt5gbUwcuix"
      },
      "source": [
        "# Supply Data Info:\n",
        "\n",
        "\n",
        "*   **Date​** – date + hour for which the row of data is presented\n",
        "*   **Active drivers**​ – number of active drivers (any level of activity) available during time period.\n",
        "* **Online (h**)​ – total supply hours that were available during time period.\n",
        "* **Has booking (h)**​ – total hours during which drivers had a client booking (any state).\n",
        "* **Waiting for booking (h)​** – total hours which drivers spent waiting for booking.\n",
        "* **Busy (h)**​ – total hours which drivers were not available to take orders in\n",
        "* **Hours per active driver**​ – average number of hours each driver was online\n",
        "during time period.\n",
        "* **Rides per online hour**​ – aka ​RPH​ – avg. finished trips per online hour during period.\n",
        "* **Finished Rides**​ – number of finished trips during period.\n",
        "\n",
        "# Demand Data Info:\n",
        "\n",
        "* **Date​** – date + hour for which the row of data is presented.\n",
        "* **People saw 0 cars (unique)​** – number of users who didn’t not see a car.\n",
        "* **People saw 0 cars (unique)​** – number of users who didn’t not see a car.\n",
        "* **Coverage Ratio (unique)**​ – % of users who saw the car\n",
        "\n",
        "\n"
      ]
    },
    {
      "cell_type": "markdown",
      "metadata": {
        "id": "WvBbsW4gem5I"
      },
      "source": [
        "# Data Profiling"
      ]
    },
    {
      "cell_type": "code",
      "metadata": {
        "id": "cOCI-viJesmA"
      },
      "source": [
        "supply_df = pd.read_csv(\"/content/drive/MyDrive/Jovian/Bolt_2/Hourly_DriverActivity_1.csv - Hourly_DriverActivity_1.csv.csv\")\n",
        "demand_df = pd.read_csv(\"/content/drive/MyDrive/Jovian/Bolt_2/Hourly_OverviewSearch_1.csv - Hourly_OverviewSearch_1.csv.csv\")"
      ],
      "execution_count": null,
      "outputs": []
    },
    {
      "cell_type": "code",
      "metadata": {
        "colab": {
          "base_uri": "https://localhost:8080/"
        },
        "id": "kMtJYPOSfViJ",
        "outputId": "1af32935-567b-4a91-c79f-7bb5c38e52bc"
      },
      "source": [
        "supply_df.shape"
      ],
      "execution_count": null,
      "outputs": [
        {
          "output_type": "execute_result",
          "data": {
            "text/plain": [
              "(840, 9)"
            ]
          },
          "metadata": {
            "tags": []
          },
          "execution_count": 9
        }
      ]
    },
    {
      "cell_type": "code",
      "metadata": {
        "colab": {
          "base_uri": "https://localhost:8080/"
        },
        "id": "qDMwBTv9fnso",
        "outputId": "28c5a08e-240b-4b14-fcfc-1319f7cfa9ea"
      },
      "source": [
        "demand_df.shape"
      ],
      "execution_count": null,
      "outputs": [
        {
          "output_type": "execute_result",
          "data": {
            "text/plain": [
              "(839, 4)"
            ]
          },
          "metadata": {
            "tags": []
          },
          "execution_count": 10
        }
      ]
    },
    {
      "cell_type": "code",
      "metadata": {
        "id": "gq9R7u4ofqkB"
      },
      "source": [
        "# Merging the two data frames and performing the inner join on date dimension.\n",
        "\n",
        "df= pd.merge(supply_df, demand_df,on='Date',how='inner')"
      ],
      "execution_count": null,
      "outputs": []
    },
    {
      "cell_type": "code",
      "metadata": {
        "colab": {
          "base_uri": "https://localhost:8080/",
          "height": 197
        },
        "id": "4LHkWjVpJUjx",
        "outputId": "5fe763e5-ceae-4324-fdf7-2dcfd037a65c"
      },
      "source": [
        "df.head()"
      ],
      "execution_count": 14,
      "outputs": [
        {
          "output_type": "execute_result",
          "data": {
            "text/html": [
              "<div>\n",
              "<style scoped>\n",
              "    .dataframe tbody tr th:only-of-type {\n",
              "        vertical-align: middle;\n",
              "    }\n",
              "\n",
              "    .dataframe tbody tr th {\n",
              "        vertical-align: top;\n",
              "    }\n",
              "\n",
              "    .dataframe thead th {\n",
              "        text-align: right;\n",
              "    }\n",
              "</style>\n",
              "<table border=\"1\" class=\"dataframe\">\n",
              "  <thead>\n",
              "    <tr style=\"text-align: right;\">\n",
              "      <th></th>\n",
              "      <th>Date</th>\n",
              "      <th>Active drivers</th>\n",
              "      <th>Online (h)</th>\n",
              "      <th>Has booking (h)</th>\n",
              "      <th>Waiting for booking (h)</th>\n",
              "      <th>Busy (h)</th>\n",
              "      <th>Hours per active driver</th>\n",
              "      <th>Rides per online hour</th>\n",
              "      <th>Finished Rides</th>\n",
              "      <th>People saw 0 cars (unique)</th>\n",
              "      <th>People saw +1 cars (unique)</th>\n",
              "      <th>Coverage Ratio (unique)</th>\n",
              "    </tr>\n",
              "  </thead>\n",
              "  <tbody>\n",
              "    <tr>\n",
              "      <th>0</th>\n",
              "      <td>2016-12-18 23</td>\n",
              "      <td>52</td>\n",
              "      <td>18</td>\n",
              "      <td>6</td>\n",
              "      <td>11</td>\n",
              "      <td>11</td>\n",
              "      <td>0.3</td>\n",
              "      <td>0.67</td>\n",
              "      <td>12.0</td>\n",
              "      <td>9</td>\n",
              "      <td>32</td>\n",
              "      <td>78</td>\n",
              "    </tr>\n",
              "    <tr>\n",
              "      <th>1</th>\n",
              "      <td>2016-12-18 22</td>\n",
              "      <td>59</td>\n",
              "      <td>20</td>\n",
              "      <td>11</td>\n",
              "      <td>9</td>\n",
              "      <td>12</td>\n",
              "      <td>0.3</td>\n",
              "      <td>1.40</td>\n",
              "      <td>28.0</td>\n",
              "      <td>29</td>\n",
              "      <td>64</td>\n",
              "      <td>69</td>\n",
              "    </tr>\n",
              "    <tr>\n",
              "      <th>2</th>\n",
              "      <td>2016-12-18 21</td>\n",
              "      <td>72</td>\n",
              "      <td>25</td>\n",
              "      <td>7</td>\n",
              "      <td>18</td>\n",
              "      <td>15</td>\n",
              "      <td>0.3</td>\n",
              "      <td>0.64</td>\n",
              "      <td>16.0</td>\n",
              "      <td>5</td>\n",
              "      <td>39</td>\n",
              "      <td>89</td>\n",
              "    </tr>\n",
              "    <tr>\n",
              "      <th>3</th>\n",
              "      <td>2016-12-18 20</td>\n",
              "      <td>86</td>\n",
              "      <td>29</td>\n",
              "      <td>7</td>\n",
              "      <td>23</td>\n",
              "      <td>15</td>\n",
              "      <td>0.3</td>\n",
              "      <td>0.52</td>\n",
              "      <td>15.0</td>\n",
              "      <td>13</td>\n",
              "      <td>48</td>\n",
              "      <td>79</td>\n",
              "    </tr>\n",
              "    <tr>\n",
              "      <th>4</th>\n",
              "      <td>2016-12-18 19</td>\n",
              "      <td>82</td>\n",
              "      <td>31</td>\n",
              "      <td>14</td>\n",
              "      <td>17</td>\n",
              "      <td>19</td>\n",
              "      <td>0.4</td>\n",
              "      <td>1.16</td>\n",
              "      <td>36.0</td>\n",
              "      <td>12</td>\n",
              "      <td>77</td>\n",
              "      <td>87</td>\n",
              "    </tr>\n",
              "  </tbody>\n",
              "</table>\n",
              "</div>"
            ],
            "text/plain": [
              "            Date  ...  Coverage Ratio (unique)\n",
              "0  2016-12-18 23  ...                       78\n",
              "1  2016-12-18 22  ...                       69\n",
              "2  2016-12-18 21  ...                       89\n",
              "3  2016-12-18 20  ...                       79\n",
              "4  2016-12-18 19  ...                       87\n",
              "\n",
              "[5 rows x 12 columns]"
            ]
          },
          "metadata": {
            "tags": []
          },
          "execution_count": 14
        }
      ]
    },
    {
      "cell_type": "code",
      "metadata": {
        "colab": {
          "base_uri": "https://localhost:8080/",
          "height": 742
        },
        "id": "otSXhLm183E-",
        "outputId": "d23396b9-aee5-486a-891f-cb5243841166"
      },
      "source": [
        "# Plotting heat map to see the null values\n",
        "fig= plt.gcf()\n",
        "fig.set_size_inches(10,10)\n",
        "sns.heatmap(df.isna(),yticklabels= False,cbar=False, cmap='viridis')"
      ],
      "execution_count": null,
      "outputs": [
        {
          "output_type": "execute_result",
          "data": {
            "text/plain": [
              "<matplotlib.axes._subplots.AxesSubplot at 0x7fad8fed64e0>"
            ]
          },
          "metadata": {
            "tags": []
          },
          "execution_count": 10
        },
        {
          "output_type": "display_data",
          "data": {
            "image/png": "[encoded data removed]",
            "text/plain": [
              "<Figure size 720x720 with 1 Axes>"
            ]
          },
          "metadata": {
            "tags": []
          }
        }
      ]
    },
    {
      "cell_type": "markdown",
      "metadata": {
        "id": "EqX_VjxpJKmB"
      },
      "source": [
        "# Data Cleaning"
      ]
    },
    {
      "cell_type": "code",
      "metadata": {
        "id": "J1bf79E6JM2p"
      },
      "source": [
        "# Splitting the Date column into Date and Hour and filling NaN values of Finished Rides with 0's\n",
        "\n",
        "df_date=df['Date'].str.split(' ',expand=True)\n",
        "\n",
        "# Joining the df_date with the dataframe df and dropping the date column\n",
        "df_copy= pd.concat([df_date,df],axis=1)\n",
        "\n",
        "# Dropping the Date column \n",
        "df_copy.drop(['Date'], axis=1, inplace=True)\n",
        "\n",
        "# Renaming the columns to Date and Hour\n",
        "df_copy.rename(columns={0:'Date', 1:'Hour'}, inplace=True)\n",
        "\n",
        "# Replacing NaN values with 0's\n",
        "df_copy['Finished Rides']= df_copy['Finished Rides'].fillna(0)\n",
        "\n",
        "# converting the date column into the datetime data type\n",
        "df_copy['Date']=pd.to_datetime(df_copy['Date'])\n",
        "\n",
        "# Adding additional dimension \"Week\" to the dataframe\n",
        "\n",
        "df_copy['Day of Week']= df_copy['Date'].dt.dayofweek\n",
        "\n",
        "# re-ordering the columns\n",
        "df_copy= df_copy[['Date','Hour','Day of Week', 'Active drivers','Online (h)', 'Has booking (h)', 'Waiting for booking (h)', 'Busy (h)','Hours per active driver','Rides per online hour','Finished Rides', 'People saw 0 cars (unique)','People saw +1 cars (unique)','Coverage Ratio (unique)']]"
      ],
      "execution_count": 29,
      "outputs": []
    },
    {
      "cell_type": "code",
      "metadata": {
        "colab": {
          "base_uri": "https://localhost:8080/",
          "height": 197
        },
        "id": "wkyjiaF2Ly-z",
        "outputId": "b86bbfda-83a6-4a7a-8595-0a5f8eef1bd8"
      },
      "source": [
        "df_copy.head()"
      ],
      "execution_count": 30,
      "outputs": [
        {
          "output_type": "execute_result",
          "data": {
            "text/html": [
              "<div>\n",
              "<style scoped>\n",
              "    .dataframe tbody tr th:only-of-type {\n",
              "        vertical-align: middle;\n",
              "    }\n",
              "\n",
              "    .dataframe tbody tr th {\n",
              "        vertical-align: top;\n",
              "    }\n",
              "\n",
              "    .dataframe thead th {\n",
              "        text-align: right;\n",
              "    }\n",
              "</style>\n",
              "<table border=\"1\" class=\"dataframe\">\n",
              "  <thead>\n",
              "    <tr style=\"text-align: right;\">\n",
              "      <th></th>\n",
              "      <th>Date</th>\n",
              "      <th>Hour</th>\n",
              "      <th>Day of Week</th>\n",
              "      <th>Active drivers</th>\n",
              "      <th>Online (h)</th>\n",
              "      <th>Has booking (h)</th>\n",
              "      <th>Waiting for booking (h)</th>\n",
              "      <th>Busy (h)</th>\n",
              "      <th>Hours per active driver</th>\n",
              "      <th>Rides per online hour</th>\n",
              "      <th>Finished Rides</th>\n",
              "      <th>People saw 0 cars (unique)</th>\n",
              "      <th>People saw +1 cars (unique)</th>\n",
              "      <th>Coverage Ratio (unique)</th>\n",
              "    </tr>\n",
              "  </thead>\n",
              "  <tbody>\n",
              "    <tr>\n",
              "      <th>0</th>\n",
              "      <td>2016-12-18</td>\n",
              "      <td>23</td>\n",
              "      <td>6</td>\n",
              "      <td>52</td>\n",
              "      <td>18</td>\n",
              "      <td>6</td>\n",
              "      <td>11</td>\n",
              "      <td>11</td>\n",
              "      <td>0.3</td>\n",
              "      <td>0.67</td>\n",
              "      <td>12.0</td>\n",
              "      <td>9</td>\n",
              "      <td>32</td>\n",
              "      <td>78</td>\n",
              "    </tr>\n",
              "    <tr>\n",
              "      <th>1</th>\n",
              "      <td>2016-12-18</td>\n",
              "      <td>22</td>\n",
              "      <td>6</td>\n",
              "      <td>59</td>\n",
              "      <td>20</td>\n",
              "      <td>11</td>\n",
              "      <td>9</td>\n",
              "      <td>12</td>\n",
              "      <td>0.3</td>\n",
              "      <td>1.40</td>\n",
              "      <td>28.0</td>\n",
              "      <td>29</td>\n",
              "      <td>64</td>\n",
              "      <td>69</td>\n",
              "    </tr>\n",
              "    <tr>\n",
              "      <th>2</th>\n",
              "      <td>2016-12-18</td>\n",
              "      <td>21</td>\n",
              "      <td>6</td>\n",
              "      <td>72</td>\n",
              "      <td>25</td>\n",
              "      <td>7</td>\n",
              "      <td>18</td>\n",
              "      <td>15</td>\n",
              "      <td>0.3</td>\n",
              "      <td>0.64</td>\n",
              "      <td>16.0</td>\n",
              "      <td>5</td>\n",
              "      <td>39</td>\n",
              "      <td>89</td>\n",
              "    </tr>\n",
              "    <tr>\n",
              "      <th>3</th>\n",
              "      <td>2016-12-18</td>\n",
              "      <td>20</td>\n",
              "      <td>6</td>\n",
              "      <td>86</td>\n",
              "      <td>29</td>\n",
              "      <td>7</td>\n",
              "      <td>23</td>\n",
              "      <td>15</td>\n",
              "      <td>0.3</td>\n",
              "      <td>0.52</td>\n",
              "      <td>15.0</td>\n",
              "      <td>13</td>\n",
              "      <td>48</td>\n",
              "      <td>79</td>\n",
              "    </tr>\n",
              "    <tr>\n",
              "      <th>4</th>\n",
              "      <td>2016-12-18</td>\n",
              "      <td>19</td>\n",
              "      <td>6</td>\n",
              "      <td>82</td>\n",
              "      <td>31</td>\n",
              "      <td>14</td>\n",
              "      <td>17</td>\n",
              "      <td>19</td>\n",
              "      <td>0.4</td>\n",
              "      <td>1.16</td>\n",
              "      <td>36.0</td>\n",
              "      <td>12</td>\n",
              "      <td>77</td>\n",
              "      <td>87</td>\n",
              "    </tr>\n",
              "  </tbody>\n",
              "</table>\n",
              "</div>"
            ],
            "text/plain": [
              "        Date Hour  ...  People saw +1 cars (unique)  Coverage Ratio (unique)\n",
              "0 2016-12-18   23  ...                           32                       78\n",
              "1 2016-12-18   22  ...                           64                       69\n",
              "2 2016-12-18   21  ...                           39                       89\n",
              "3 2016-12-18   20  ...                           48                       79\n",
              "4 2016-12-18   19  ...                           77                       87\n",
              "\n",
              "[5 rows x 14 columns]"
            ]
          },
          "metadata": {
            "tags": []
          },
          "execution_count": 30
        }
      ]
    }
  ]
}